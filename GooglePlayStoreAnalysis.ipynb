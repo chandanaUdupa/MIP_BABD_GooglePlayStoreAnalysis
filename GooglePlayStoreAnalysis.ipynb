{
 "cells": [
  {
   "cell_type": "markdown",
   "metadata": {},
   "source": [
    "### IMPORTING LIBRARIES"
   ]
  },
  {
   "cell_type": "code",
   "execution_count": 1,
   "metadata": {},
   "outputs": [],
   "source": [
    "import pyspark\n",
    "from pyspark.sql import SparkSession\n",
    "from pyspark.sql.types import *\n",
    "from pyspark import SparkContext\n",
    "from operator import add\n",
    "from pyspark.sql.functions import lit, col, explode, initcap, regexp_replace, split, concat, substring, to_date"
   ]
  },
  {
   "cell_type": "markdown",
   "metadata": {},
   "source": [
    "### LOADING DATASET"
   ]
  },
  {
   "cell_type": "code",
   "execution_count": 2,
   "metadata": {},
   "outputs": [],
   "source": [
    "spark = SparkSession.builder.appName('PySparkGooglePlayApps').getOrCreate()\n",
    "\n",
    "# Enable Arrow-based columnar data transfers\n",
    "spark.conf.set(\"spark.sql.execution.arrow.enabled\", \"true\")\n",
    "\n",
    "googleplaystore_df = spark.read.load('/home/ubuntu/googleplaystore.csv',\n",
    "                    format='csv',\n",
    "                    sep = ',',\n",
    "                    header='true',\n",
    "                    escape='\"',\n",
    "                    inferSchema='true')\n",
    "\n",
    "googleplaystore_user_reviews_df = spark.read.load('/home/ubuntu/googleplaystore_user_reviews.csv',\n",
    "                    format='csv',\n",
    "                    sep = ',',\n",
    "                    header='true',\n",
    "                    escape='\"',\n",
    "                    inferSchema='true')"
   ]
  },
  {
   "cell_type": "code",
   "execution_count": 3,
   "metadata": {},
   "outputs": [
    {
     "name": "stdout",
     "output_type": "stream",
     "text": [
      "+------------------------------------------------------+\n",
      "|App                                                   |\n",
      "+------------------------------------------------------+\n",
      "|Eat Fast Prepare \"Without Internet\"                   |\n",
      "|Yanosik: \"antyradar\", traffic jams, navigation, camera|\n",
      "|Alphabet \"H\" Passcode Lock Screen                     |\n",
      "|Official QR Code® Reader \"Q\"                          |\n",
      "|Women\"s Health Tips(Breast,Face,Body,weight lose)     |\n",
      "|\"i DT\" Fútbol. Todos Somos Técnicos.                  |\n",
      "|The FN \"Baby\" pistol explained                        |\n",
      "+------------------------------------------------------+\n",
      "\n"
     ]
    }
   ],
   "source": [
    "googleplaystore_df.select(\"App\").where(\"App like '%\\\"%'\").show(truncate=False)"
   ]
  },
  {
   "cell_type": "code",
   "execution_count": 4,
   "metadata": {},
   "outputs": [
    {
     "name": "stdout",
     "output_type": "stream",
     "text": [
      "+--------------------+--------------+------+-------+----+-----------+----+-----+--------------+--------------------+----------------+------------------+------------+\n",
      "|                 App|      Category|Rating|Reviews|Size|   Installs|Type|Price|Content Rating|              Genres|    Last Updated|       Current Ver| Android Ver|\n",
      "+--------------------+--------------+------+-------+----+-----------+----+-----+--------------+--------------------+----------------+------------------+------------+\n",
      "|Photo Editor & Ca...|ART_AND_DESIGN|   4.1|    159| 19M|    10,000+|Free|    0|      Everyone|        Art & Design| January 7, 2018|             1.0.0|4.0.3 and up|\n",
      "| Coloring book moana|ART_AND_DESIGN|   3.9|    967| 14M|   500,000+|Free|    0|      Everyone|Art & Design;Pret...|January 15, 2018|             2.0.0|4.0.3 and up|\n",
      "|U Launcher Lite –...|ART_AND_DESIGN|   4.7|  87510|8.7M| 5,000,000+|Free|    0|      Everyone|        Art & Design|  August 1, 2018|             1.2.4|4.0.3 and up|\n",
      "|Sketch - Draw & P...|ART_AND_DESIGN|   4.5| 215644| 25M|50,000,000+|Free|    0|          Teen|        Art & Design|    June 8, 2018|Varies with device|  4.2 and up|\n",
      "|Pixel Draw - Numb...|ART_AND_DESIGN|   4.3|    967|2.8M|   100,000+|Free|    0|      Everyone|Art & Design;Crea...|   June 20, 2018|               1.1|  4.4 and up|\n",
      "+--------------------+--------------+------+-------+----+-----------+----+-----+--------------+--------------------+----------------+------------------+------------+\n",
      "only showing top 5 rows\n",
      "\n"
     ]
    }
   ],
   "source": [
    "# Number of rows in the dataframe\n",
    "googleplaystore_df.show(n=5)"
   ]
  },
  {
   "cell_type": "code",
   "execution_count": 5,
   "metadata": {},
   "outputs": [
    {
     "name": "stdout",
     "output_type": "stream",
     "text": [
      "+--------------------+--------------------+---------+------------------+----------------------+\n",
      "|                 App|   Translated_Review|Sentiment|Sentiment_Polarity|Sentiment_Subjectivity|\n",
      "+--------------------+--------------------+---------+------------------+----------------------+\n",
      "|10 Best Foods for...|I like eat delici...| Positive|               1.0|    0.5333333333333333|\n",
      "|10 Best Foods for...|This help eating ...| Positive|              0.25|   0.28846153846153844|\n",
      "|10 Best Foods for...|                 nan|      nan|               nan|                   nan|\n",
      "|10 Best Foods for...|Works great espec...| Positive|               0.4|                 0.875|\n",
      "|10 Best Foods for...|        Best idea us| Positive|               1.0|                   0.3|\n",
      "+--------------------+--------------------+---------+------------------+----------------------+\n",
      "only showing top 5 rows\n",
      "\n"
     ]
    }
   ],
   "source": [
    "# Number of rows in the dataframe\n",
    "googleplaystore_user_reviews_df.show(n=5)"
   ]
  },
  {
   "cell_type": "markdown",
   "metadata": {},
   "source": [
    "### Transformations & Datatype conversions"
   ]
  },
  {
   "cell_type": "code",
   "execution_count": 6,
   "metadata": {},
   "outputs": [
    {
     "name": "stdout",
     "output_type": "stream",
     "text": [
      "root\n",
      " |-- App: string (nullable = true)\n",
      " |-- Category: string (nullable = true)\n",
      " |-- Rating: double (nullable = true)\n",
      " |-- Reviews: string (nullable = true)\n",
      " |-- Size: string (nullable = true)\n",
      " |-- Installs: string (nullable = true)\n",
      " |-- Type: string (nullable = true)\n",
      " |-- Price: string (nullable = true)\n",
      " |-- Content Rating: string (nullable = true)\n",
      " |-- Genres: string (nullable = true)\n",
      " |-- Last Updated: string (nullable = true)\n",
      " |-- Current Ver: string (nullable = true)\n",
      " |-- Android Ver: string (nullable = true)\n",
      "\n"
     ]
    }
   ],
   "source": [
    "googleplaystore_df.printSchema()"
   ]
  },
  {
   "cell_type": "code",
   "execution_count": 7,
   "metadata": {},
   "outputs": [],
   "source": [
    "# Drop unused columns\n",
    "googleplaystore_df = googleplaystore_df.drop(\"category\", \"size\", \"type\", \"content rating\")"
   ]
  },
  {
   "cell_type": "markdown",
   "metadata": {},
   "source": [
    "#### Column renaming: Removing spaces.\n",
    "Rating: Cast to Double.\n",
    "\n",
    "Installs: Apply regexp to remove unwanted characters and cast to Integer.\n",
    "\n",
    "Price: Apply regexp to remove unwanted characters and cast to Double.\n",
    "\n",
    "Last updated: Cast to Date"
   ]
  },
  {
   "cell_type": "code",
   "execution_count": 8,
   "metadata": {},
   "outputs": [],
   "source": [
    "googleplaystore_df = googleplaystore_df \\\n",
    "    .withColumnRenamed(\"Android Ver\", \"android_ver\") \\\n",
    "    .withColumnRenamed(\"Current Ver\", \"current_ver\") \\\n",
    "    .withColumnRenamed(\"Last Updated\", \"last_updated\") \\\n",
    "    .withColumn(\"Rating\", col(\"Rating\").cast(DoubleType())) \\\n",
    "    .withColumn(\"Reviews\", col(\"Reviews\").cast(IntegerType())) \\\n",
    "    .withColumn(\"Installs\", regexp_replace(col(\"Installs\"), \"[^0-9]\", \"\")) \\\n",
    "    .withColumn(\"Installs\", col(\"Installs\").cast(IntegerType())) \\\n",
    "    .withColumn(\"Price\", regexp_replace(col(\"Price\"), \"[$]\", \"\")) \\\n",
    "    .withColumn(\"Price\", col(\"Price\").cast(DoubleType())) \\\n",
    "    .withColumn(\"last_updated\", to_date('last_updated', 'MMM d, yyyy'))"
   ]
  },
  {
   "cell_type": "code",
   "execution_count": 9,
   "metadata": {},
   "outputs": [],
   "source": [
    "# Fill NULL values with 0\n",
    "googleplaystore_df = googleplaystore_df.fillna(0, \"price\")"
   ]
  },
  {
   "cell_type": "code",
   "execution_count": 10,
   "metadata": {},
   "outputs": [
    {
     "name": "stdout",
     "output_type": "stream",
     "text": [
      "root\n",
      " |-- App: string (nullable = true)\n",
      " |-- Rating: double (nullable = true)\n",
      " |-- Reviews: integer (nullable = true)\n",
      " |-- Installs: integer (nullable = true)\n",
      " |-- Price: double (nullable = false)\n",
      " |-- Genres: string (nullable = true)\n",
      " |-- last_updated: date (nullable = true)\n",
      " |-- current_ver: string (nullable = true)\n",
      " |-- android_ver: string (nullable = true)\n",
      "\n"
     ]
    }
   ],
   "source": [
    "googleplaystore_df.printSchema()"
   ]
  },
  {
   "cell_type": "markdown",
   "metadata": {},
   "source": [
    "### Removing duplicates"
   ]
  },
  {
   "cell_type": "code",
   "execution_count": 11,
   "metadata": {},
   "outputs": [],
   "source": [
    "#Create temporal view so later we can execute SQL statements\n",
    "googleplaystore_df.createOrReplaceTempView(\"apps\")"
   ]
  },
  {
   "cell_type": "code",
   "execution_count": 12,
   "metadata": {},
   "outputs": [
    {
     "name": "stdout",
     "output_type": "stream",
     "text": [
      "+--------------------+------+-------+---------+--------------------+-----+------------------+---+\n",
      "|                 app|rating|reviews| installs|              genres|price|       android_ver|rep|\n",
      "+--------------------+------+-------+---------+--------------------+-----+------------------+---+\n",
      "|                Nick|   4.2| 123279| 10000000|Entertainment;Mus...|  0.0|        4.4 and up|  4|\n",
      "|          Skyscanner|   4.5| 481546| 10000000|      Travel & Local|  0.0|        4.4 and up|  4|\n",
      "|           WatchESPN|   4.1| 288809| 10000000|              Sports|  0.0|        4.4 and up|  4|\n",
      "|eBay: Buy & Sell ...|   4.4|2788923|100000000|            Shopping|  0.0|Varies with device|  4|\n",
      "|Quizlet: Learn La...|   4.6| 211856| 10000000|           Education|  0.0|Varies with device|  4|\n",
      "|CBS Sports App - ...|   4.3|  91031|  5000000|              Sports|  0.0|        5.0 and up|  4|\n",
      "|         Google Keep|   4.4| 691474|100000000|        Productivity|  0.0|Varies with device|  4|\n",
      "|              O-Star|   4.4|     59|     5000|              Dating|  0.0|        4.3 and up|  3|\n",
      "|           USA TODAY|   4.1|  49259|  5000000|    News & Magazines|  0.0|Varies with device|  3|\n",
      "|               STARZ|   4.3|  88185| 10000000|       Entertainment|  0.0|Varies with device|  3|\n",
      "|HBO NOW: Stream T...|   3.9|  61201| 10000000|       Entertainment|  0.0|Varies with device|  3|\n",
      "|            BBC News|   4.3| 296781| 10000000|    News & Magazines|  0.0|Varies with device|  3|\n",
      "|  Camera for Android|   4.2| 240475| 10000000|         Photography|  0.0|        4.0 and up|  3|\n",
      "|Elmo Calls by Ses...|   3.9|   6903|  1000000|Educational;Prete...|  0.0|        2.3 and up|  3|\n",
      "|JackThreads: Men'...|   4.0|  13085|  1000000|            Shopping|  0.0|      4.0.3 and up|  3|\n",
      "|                 TED|   4.6| 181893| 10000000|           Education|  0.0|        4.1 and up|  3|\n",
      "|CBS Sports App - ...|   4.3|  91033|  5000000|              Sports|  0.0|        5.0 and up|  3|\n",
      "|join.me - Simple ...|   4.0|   6989|  1000000|            Business|  0.0|        4.4 and up|  3|\n",
      "|Udemy - Online Co...|   4.5|  99020|  1000000|           Education|  0.0|        5.0 and up|  3|\n",
      "| Free Blood Pressure|   NaN|      7|     5000|             Medical|  0.0|      4.0.3 and up|  3|\n",
      "+--------------------+------+-------+---------+--------------------+-----+------------------+---+\n",
      "only showing top 20 rows\n",
      "\n"
     ]
    }
   ],
   "source": [
    "spark.sql(\"\"\"\n",
    "SELECT app, rating, reviews, installs, genres, price, android_ver, count(*) rep\n",
    "FROM apps\n",
    "GROUP BY app, rating, reviews, installs, genres, price, android_ver\n",
    "HAVING count(*) > 1\n",
    "ORDER BY rep DESC\n",
    "\"\"\").show()"
   ]
  },
  {
   "cell_type": "code",
   "execution_count": 13,
   "metadata": {},
   "outputs": [
    {
     "name": "stdout",
     "output_type": "stream",
     "text": [
      "+----------------+------+-------+---------+-----+------+------------+-----------+-----------+\n",
      "|app             |rating|reviews|installs |price|genres|last_updated|current_ver|android_ver|\n",
      "+----------------+------+-------+---------+-----+------+------------+-----------+-----------+\n",
      "|Farm Heroes Saga|4.4   |7614130|100000000|0.0  |Casual|2018-07-26  |5.1.8      |2.3 and up |\n",
      "|Farm Heroes Saga|4.4   |7614271|100000000|0.0  |Casual|2018-07-26  |5.1.8      |2.3 and up |\n",
      "|Farm Heroes Saga|4.4   |7614415|100000000|0.0  |Casual|2018-07-26  |5.1.8      |2.3 and up |\n",
      "|Farm Heroes Saga|4.4   |7614407|100000000|0.0  |Casual|2018-07-26  |5.1.8      |2.3 and up |\n",
      "|Farm Heroes Saga|4.4   |7615646|100000000|0.0  |Casual|2018-08-07  |5.2.6      |2.3 and up |\n",
      "+----------------+------+-------+---------+-----+------+------------+-----------+-----------+\n",
      "\n"
     ]
    }
   ],
   "source": [
    "# One specific example\n",
    "spark.sql(\"\"\"\n",
    "SELECT  app, rating, reviews, installs, price,\n",
    "        genres, last_updated, current_ver, android_ver\n",
    "FROM apps\n",
    "WHERE app = \"Farm Heroes Saga\"\n",
    "\"\"\").show(truncate=False)"
   ]
  },
  {
   "cell_type": "code",
   "execution_count": 14,
   "metadata": {},
   "outputs": [],
   "source": [
    "# Remove duplicates\n",
    "googleplaystore_df = spark.sql(\"\"\"\n",
    "WITH app_vw AS\n",
    "    (SELECT app, rating, reviews, installs, price, genres, last_updated, current_ver, android_ver,\n",
    "            ROW_NUMBER() OVER (PARTITION BY app ORDER BY current_ver DESC, last_updated DESC, reviews DESC) row_number\n",
    "    FROM apps)\n",
    "SELECT app, rating, reviews, installs, price, genres, last_updated, current_ver, android_ver\n",
    "FROM app_vw\n",
    "WHERE row_number = 1\n",
    "\"\"\")"
   ]
  },
  {
   "cell_type": "code",
   "execution_count": 15,
   "metadata": {},
   "outputs": [],
   "source": [
    "googleplaystore_df = googleplaystore_df.dropDuplicates()"
   ]
  },
  {
   "cell_type": "code",
   "execution_count": 16,
   "metadata": {},
   "outputs": [
    {
     "name": "stdout",
     "output_type": "stream",
     "text": [
      "+---+------+-------+--------+------+-----+-----------+---+\n",
      "|app|rating|reviews|installs|genres|price|android_ver|rep|\n",
      "+---+------+-------+--------+------+-----+-----------+---+\n",
      "+---+------+-------+--------+------+-----+-----------+---+\n",
      "\n"
     ]
    }
   ],
   "source": [
    "# Re-check of duplicates\n",
    "googleplaystore_df.createOrReplaceTempView(\"apps\")  # Update view\n",
    "\n",
    "spark.sql(\"\"\"\n",
    "SELECT app, rating, reviews, installs, genres, price, android_ver, count(*) rep\n",
    "FROM apps\n",
    "GROUP BY app, rating, reviews, installs, genres, price, android_ver\n",
    "HAVING count(*) > 1\n",
    "\"\"\").show()"
   ]
  },
  {
   "cell_type": "code",
   "execution_count": 17,
   "metadata": {},
   "outputs": [],
   "source": [
    "#Create temporal view so later we can execute SQL statements\n",
    "googleplaystore_user_reviews_df.createOrReplaceTempView(\"reviews\")"
   ]
  },
  {
   "cell_type": "markdown",
   "metadata": {},
   "source": [
    "#### "
   ]
  },
  {
   "cell_type": "markdown",
   "metadata": {},
   "source": [
    "### 1. Top 10 applications in regards to the highest number of positive sentiments."
   ]
  },
  {
   "cell_type": "code",
   "execution_count": 18,
   "metadata": {},
   "outputs": [
    {
     "name": "stdout",
     "output_type": "stream",
     "text": [
      "+------------------------------+-------+\n",
      "|app                           |cnt_pos|\n",
      "+------------------------------+-------+\n",
      "|Helix Jump                    |209    |\n",
      "|Duolingo: Learn Languages Free|200    |\n",
      "|Calorie Counter - Macros      |174    |\n",
      "|Calorie Counter - MyFitnessPal|169    |\n",
      "|Bowmasters                    |169    |\n",
      "|10 Best Foods for You         |162    |\n",
      "|Google Photos                 |143    |\n",
      "|8fit Workouts & Meal Planner  |137    |\n",
      "|Garena Free Fire              |136    |\n",
      "|DRAGON BALL LEGENDS           |127    |\n",
      "+------------------------------+-------+\n",
      "\n"
     ]
    }
   ],
   "source": [
    "spark.sql(\"\"\"\n",
    "SELECT app, count(*) as cnt_pos\n",
    "FROM reviews\n",
    "WHERE sentiment = \"Positive\"\n",
    "GROUP BY app\n",
    "ORDER BY cnt_pos DESC\n",
    "LIMIT 10\n",
    "\"\"\").show(truncate=False)"
   ]
  },
  {
   "cell_type": "markdown",
   "metadata": {},
   "source": [
    "### 2. Histogram for the number of installations."
   ]
  },
  {
   "cell_type": "code",
   "execution_count": 19,
   "metadata": {},
   "outputs": [],
   "source": [
    "histogram = spark.sql(\"\"\"\n",
    "SELECT  NVL(installs, 0) installs\n",
    "        , count(*) frequency\n",
    "FROM apps\n",
    "GROUP BY NVL(installs, 0)\n",
    "ORDER BY 1\n",
    "\"\"\")"
   ]
  },
  {
   "cell_type": "code",
   "execution_count": 20,
   "metadata": {},
   "outputs": [],
   "source": [
    "# Programmatic way to replace NULL with 0\n",
    "histogram = histogram.fillna(0, \"installs\")"
   ]
  },
  {
   "cell_type": "code",
   "execution_count": 21,
   "metadata": {},
   "outputs": [
    {
     "name": "stdout",
     "output_type": "stream",
     "text": [
      "+--------+---------+\n",
      "|installs|frequency|\n",
      "+--------+---------+\n",
      "+--------+---------+\n",
      "\n"
     ]
    }
   ],
   "source": [
    "histogram.where(\"installs is null\").show()"
   ]
  },
  {
   "cell_type": "code",
   "execution_count": 22,
   "metadata": {},
   "outputs": [
    {
     "name": "stdout",
     "output_type": "stream",
     "text": [
      "+----------+---------+\n",
      "|  installs|frequency|\n",
      "+----------+---------+\n",
      "|         0|       16|\n",
      "|         1|       67|\n",
      "|         5|       82|\n",
      "|        10|      385|\n",
      "|        50|      204|\n",
      "|       100|      710|\n",
      "|       500|      328|\n",
      "|      1000|      887|\n",
      "|      5000|      468|\n",
      "|     10000|     1031|\n",
      "|     50000|      469|\n",
      "|    100000|     1111|\n",
      "|    500000|      505|\n",
      "|   1000000|     1419|\n",
      "|   5000000|      606|\n",
      "|  10000000|      935|\n",
      "|  50000000|      204|\n",
      "| 100000000|      189|\n",
      "| 500000000|       24|\n",
      "|1000000000|       20|\n",
      "+----------+---------+\n",
      "\n"
     ]
    }
   ],
   "source": [
    "histogram.show()"
   ]
  },
  {
   "cell_type": "code",
   "execution_count": 23,
   "metadata": {},
   "outputs": [],
   "source": [
    "# Conversion: Spark DF to Pandas DF\n",
    "plotdf = histogram.toPandas()"
   ]
  },
  {
   "cell_type": "code",
   "execution_count": 32,
   "metadata": {},
   "outputs": [
    {
     "data": {
      "text/plain": [
       "<matplotlib.axes._subplots.AxesSubplot at 0x7fd483fe3668>"
      ]
     },
     "execution_count": 32,
     "metadata": {},
     "output_type": "execute_result"
    },
    {
     "data": {
      "image/png": "[encoded data removed]",
      "text/plain": [
       "<Figure size 432x288 with 1 Axes>"
      ]
     },
     "metadata": {
      "needs_background": "light"
     },
     "output_type": "display_data"
    }
   ],
   "source": [
    "# Pandas internal plot library\n",
    "plotdf.plot(kind='barh', x='installs', y='frequency', colormap='tab20b')"
   ]
  },
  {
   "cell_type": "markdown",
   "metadata": {},
   "source": [
    "### 3. Applications with more positive sentiments than negative and neutral together and having a rating of at least 4.2"
   ]
  },
  {
   "cell_type": "code",
   "execution_count": 24,
   "metadata": {},
   "outputs": [
    {
     "name": "stdout",
     "output_type": "stream",
     "text": [
      "+-------------------------------------+--------+--------+-------+\n",
      "|app                                  |positive|negative|neutral|\n",
      "+-------------------------------------+--------+--------+-------+\n",
      "|BaBe+ - Berita Indonesia             |13      |2       |5      |\n",
      "|Basketball Stars                     |44      |41      |4      |\n",
      "|Davis's Drug Guide for Nurses        |2       |0       |1      |\n",
      "|Find&Save - Local Shopping           |20      |7       |4      |\n",
      "|Bloomberg Professional               |15      |11      |14     |\n",
      "|Floor Plan Creator                   |26      |3       |8      |\n",
      "|Happy Fruits Bomb - Cube Blast       |13      |7       |5      |\n",
      "|Bagan - Myanmar Keyboard             |21      |2       |9      |\n",
      "|Candy Pop Story                      |22      |13      |5      |\n",
      "|Cricbuzz - Live Cricket Scores & News|26      |11      |1      |\n",
      "|Google Earth                         |23      |10      |5      |\n",
      "|Homework Planner                     |33      |4       |0      |\n",
      "|AOL - News, Mail & Video             |17      |7       |9      |\n",
      "|Epocrates Plus                       |29      |6       |5      |\n",
      "|File Explorer                        |14      |3       |6      |\n",
      "|Arrow.io                             |53      |28      |14     |\n",
      "|CALCU™ Stylish Calculator Free       |27      |1       |10     |\n",
      "|FilterGrid - Cam&Photo Editor        |22      |9       |4      |\n",
      "|Golf GPS Rangefinder: Golf Pad       |31      |6       |2      |\n",
      "|BELONG Beating Cancer Together       |28      |2       |8      |\n",
      "+-------------------------------------+--------+--------+-------+\n",
      "only showing top 20 rows\n",
      "\n"
     ]
    }
   ],
   "source": [
    "spark.sql(\"\"\"\n",
    "SELECT  app, \n",
    "        SUM(CASE sentiment WHEN \"Positive\" THEN 1 ELSE 0 END) positive, \n",
    "        SUM(CASE sentiment WHEN \"Negative\" THEN 1 ELSE 0 END) negative, \n",
    "        SUM(CASE sentiment WHEN \"Neutral\" THEN 1 ELSE 0 END) neutral\n",
    "FROM reviews r\n",
    "WHERE r.sentiment != \"nan\"\n",
    "GROUP BY app\n",
    "\"\"\").show(truncate=False)"
   ]
  },
  {
   "cell_type": "markdown",
   "metadata": {},
   "source": [
    "### Trying to find correlation between some of the attributes"
   ]
  },
  {
   "cell_type": "markdown",
   "metadata": {},
   "source": [
    "#### 1. Correlation between sentiment and rating"
   ]
  },
  {
   "cell_type": "code",
   "execution_count": 25,
   "metadata": {},
   "outputs": [
    {
     "name": "stdout",
     "output_type": "stream",
     "text": [
      "+--------------------------------------------------+------+--------+--------+-------+\n",
      "|app                                               |rating|positive|negative|neutral|\n",
      "+--------------------------------------------------+------+--------+--------+-------+\n",
      "|Davis's Drug Guide for Nurses                     |4.5   |2       |0       |1      |\n",
      "|Happy Fruits Bomb - Cube Blast                    |4.5   |13      |7       |5      |\n",
      "|Candy Pop Story                                   |4.7   |22      |13      |5      |\n",
      "|Cricbuzz - Live Cricket Scores & News             |4.5   |26      |11      |1      |\n",
      "|Google Earth                                      |4.3   |23      |10      |5      |\n",
      "|Epocrates Plus                                    |4.3   |29      |6       |5      |\n",
      "|Arrow.io                                          |4.5   |53      |28      |14     |\n",
      "|CALCU™ Stylish Calculator Free                    |4.7   |27      |1       |10     |\n",
      "|FilterGrid - Cam&Photo Editor                     |4.6   |22      |9       |4      |\n",
      "|Golf GPS Rangefinder: Golf Pad                    |4.6   |31      |6       |2      |\n",
      "|BELONG Beating Cancer Together                    |4.7   |28      |2       |8      |\n",
      "|Bubble Shooter                                    |4.5   |100     |40      |5      |\n",
      "|Football Live Scores                              |4.5   |28      |2       |4      |\n",
      "|All-in-One Mahjong 3 FREE                         |4.5   |1       |0       |0      |\n",
      "|CM Launcher 3D - Theme, Wallpapers, Efficient     |4.6   |12      |2       |4      |\n",
      "|Dog Licks Screen Wallpaper                        |4.3   |20      |5       |9      |\n",
      "|Dream League Soccer 2018                          |4.6   |2       |1       |0      |\n",
      "|Drugs.com Medication Guide                        |4.4   |32      |3       |4      |\n",
      "|Dude Perfect 2                                    |4.5   |57      |22      |5      |\n",
      "|Drawing for Kids Learning Games for Toddlers age 3|4.6   |1       |0       |0      |\n",
      "|Fast Scanner : Free PDF Scan                      |4.5   |58      |1       |15     |\n",
      "|Fabulous: Motivate Me! Meditate, Relax, Sleep     |4.6   |31      |6       |3      |\n",
      "|Blood Donor                                       |4.2   |26      |2       |11     |\n",
      "|Domino's Pizza USA                                |4.7   |40      |11      |2      |\n",
      "|Dropbox                                           |4.4   |46      |8       |22     |\n",
      "|2GIS: directory & navigator                       |4.5   |23      |6       |11     |\n",
      "|Alarm Clock                                       |4.3   |22      |4       |10     |\n",
      "|FIFA - Tournaments, Soccer News & Live Scores     |4.2   |40      |20      |18     |\n",
      "|Fast Secure VPN                                   |4.3   |37      |11      |23     |\n",
      "|DraftKings - Daily Fantasy Sports                 |4.5   |27      |6       |3      |\n",
      "+--------------------------------------------------+------+--------+--------+-------+\n",
      "only showing top 30 rows\n",
      "\n"
     ]
    }
   ],
   "source": [
    "spark.sql(\"\"\"\n",
    "WITH reviews_vw AS\n",
    "    (SELECT app, \n",
    "            SUM(CASE sentiment WHEN \"Positive\" THEN 1 ELSE 0 END) positive, \n",
    "            SUM(CASE sentiment WHEN \"Negative\" THEN 1 ELSE 0 END) negative, \n",
    "            SUM(CASE sentiment WHEN \"Neutral\" THEN 1 ELSE 0 END) neutral\n",
    "    FROM reviews r\n",
    "    WHERE r.sentiment != \"nan\"\n",
    "    GROUP BY app\n",
    "    )\n",
    "SELECT a.app, a.rating, positive, negative, neutral\n",
    "FROM apps a, reviews_vw r\n",
    "WHERE a.app = r.app\n",
    "AND a.rating >= 4.2\n",
    "AND positive > neutral + negative\n",
    "\"\"\").show(30, truncate=False)"
   ]
  },
  {
   "cell_type": "code",
   "execution_count": 26,
   "metadata": {},
   "outputs": [
    {
     "name": "stdout",
     "output_type": "stream",
     "text": [
      "+--------------------+-----+------+----------+--------+--------+--------+-------+\n",
      "|                 app|price|rating|  installs| reviews|positive|negative|neutral|\n",
      "+--------------------+-----+------+----------+--------+--------+--------+-------+\n",
      "|          Helix Jump|  0.0|   4.2| 100000000| 1500999|     209|      58|      6|\n",
      "|Duolingo: Learn L...|  0.0|   4.7| 100000000| 6297590|     200|      34|      6|\n",
      "|Calorie Counter -...|  0.0|   4.0|    100000|    3061|     174|      20|      6|\n",
      "|Calorie Counter -...|  0.0|   4.6|  50000000| 1873523|     169|      52|     34|\n",
      "|          Bowmasters|  0.0|   4.7|  50000000| 1536349|     169|     119|     24|\n",
      "|10 Best Foods for...|  0.0|   4.0|    500000|    2490|     162|      10|     22|\n",
      "|       Google Photos|  0.0|   4.5|1000000000|10859051|     143|      47|      1|\n",
      "|8fit Workouts & M...|  0.0|   4.6|  10000000|  115721|     137|      19|     15|\n",
      "|    Garena Free Fire|  0.0|   4.5| 100000000| 5534114|     136|      81|      5|\n",
      "| DRAGON BALL LEGENDS|  0.0|   4.6|   5000000|  338742|     127|      39|      1|\n",
      "|CBS Sports App - ...|  0.0|   4.3|   5000000|   91035|     123|      42|     27|\n",
      "|ColorNote Notepad...|  0.0|   4.6| 100000000| 2401017|     121|       7|      3|\n",
      "|Calorie Counter -...|  0.0|   4.5|   1000000|   27439|     120|       4|     15|\n",
      "|Adobe Acrobat Reader|  0.0|   4.3| 100000000| 3016305|     119|      28|     15|\n",
      "|Calorie Counter &...|  0.0|   4.5|   1000000|   32606|     109|      17|      9|\n",
      "|        Clash Royale|  0.0|   4.6| 100000000|23136735|     107|      58|      0|\n",
      "|Crunchyroll - Eve...|  0.0|   3.7|  10000000|  310095|     105|      15|      0|\n",
      "|    Alto's Adventure|  0.0|   4.6|  10000000|  515657|     103|      72|      0|\n",
      "|           Flow Free|  0.0|   4.3| 100000000| 1295625|     101|      49|      4|\n",
      "|      Bubble Shooter|  0.0|   4.5|   5000000|   43576|     100|      40|      5|\n",
      "+--------------------+-----+------+----------+--------+--------+--------+-------+\n",
      "only showing top 20 rows\n",
      "\n"
     ]
    }
   ],
   "source": [
    "spark.sql(\"\"\"\n",
    "WITH apps_vw AS\n",
    "    (SELECT app, rating, reviews, installs, price, genres\n",
    "    FROM apps\n",
    "    ),\n",
    "reviews_vw AS\n",
    "    (SELECT app, \n",
    "            SUM(CASE sentiment WHEN \"Positive\" THEN 1 ELSE 0 END) positive, \n",
    "            SUM(CASE sentiment WHEN \"Negative\" THEN 1 ELSE 0 END) negative, \n",
    "            SUM(CASE sentiment WHEN \"Neutral\" THEN 1 ELSE 0 END) neutral\n",
    "    FROM reviews r\n",
    "    WHERE r.sentiment != \"nan\"\n",
    "    GROUP BY app\n",
    "    )\n",
    "SELECT a.app, price, rating, installs, reviews, positive, negative, neutral\n",
    "FROM apps_vw a, reviews_vw r\n",
    "WHERE a.app = r.app\n",
    "AND positive > negative + neutral\n",
    "ORDER BY positive DESC\n",
    "\"\"\").show()"
   ]
  },
  {
   "cell_type": "code",
   "execution_count": 27,
   "metadata": {},
   "outputs": [
    {
     "name": "stdout",
     "output_type": "stream",
     "text": [
      "+--------------------+-----+------+----------+--------+--------+--------+-------+\n",
      "|                 app|price|rating|  installs| reviews|negative|positive|neutral|\n",
      "+--------------------+-----+------+----------+--------+--------+--------+-------+\n",
      "| Angry Birds Classic|  0.0|   4.4| 100000000| 5566908|     147|     124|      2|\n",
      "|    Candy Crush Saga|  0.0|   4.4| 500000000|22430188|     126|     102|     12|\n",
      "|Candy Crush Soda ...|  0.0|   4.4| 100000000| 6199095|      96|      62|      8|\n",
      "|       Cooking Fever|  0.0|   4.5| 100000000| 3198176|      79|      55|      1|\n",
      "| Be A Legend: Soccer|  0.0|   3.8|   1000000|   85763|      59|      33|      6|\n",
      "|Candy Crush Jelly...|  0.0|   4.3|  50000000| 1300619|      44|      21|      8|\n",
      "|     Angry Birds Rio|  0.0|   4.4| 100000000| 2610680|      23|      15|      1|\n",
      "|       Guns of Glory|  0.0|   4.0|  10000000|  120592|      23|      14|      3|\n",
      "|GoPro (formerly C...|  0.0|   4.0|  10000000|  157506|      23|      15|      1|\n",
      "|          Color Road|  0.0|   4.1|  10000000|   84911|      22|      14|      1|\n",
      "|HTC Social Plugin...|  0.0|   3.6|  10000000|   13223|      20|      14|      5|\n",
      "|  Blossom Blast Saga|  0.0|   4.5|  10000000| 1125438|      19|      17|      0|\n",
      "|     Account Manager|  0.0|   4.1| 100000000|   76604|      18|      11|      4|\n",
      "|Final Fantasy XV:...|  0.0|   4.0|  10000000|  484981|      17|      13|      2|\n",
      "|HBO GO: Stream wi...|  0.0|   3.8|  10000000|   87734|      17|       6|      2|\n",
      "|Hitwe - meet peop...|  0.0|   4.2|  10000000|  243950|       7|       2|      0|\n",
      "|             AppLock|  0.0|   4.4| 100000000| 4931562|       7|       6|      0|\n",
      "|Dailyhunt (Newshu...|  0.0|   4.3|  50000000|  948198|       3|       1|      0|\n",
      "|  Google Street View|  0.0|   4.2|1000000000| 2129707|       3|       0|      1|\n",
      "|Call of Duty:Blac...| 6.99|   4.2|    100000|   13004|       3|       0|      0|\n",
      "+--------------------+-----+------+----------+--------+--------+--------+-------+\n",
      "only showing top 20 rows\n",
      "\n"
     ]
    }
   ],
   "source": [
    "spark.sql(\"\"\"\n",
    "WITH apps_vw AS\n",
    "    (SELECT app, rating, reviews, installs, price, genres\n",
    "    FROM apps\n",
    "    ),\n",
    "reviews_vw AS\n",
    "    (SELECT app,\n",
    "            SUM(CASE sentiment WHEN \"Positive\" THEN 1 ELSE 0 END) positive, \n",
    "            SUM(CASE sentiment WHEN \"Negative\" THEN 1 ELSE 0 END) negative, \n",
    "            SUM(CASE sentiment WHEN \"Neutral\" THEN 1 ELSE 0 END) neutral\n",
    "    FROM reviews r\n",
    "    WHERE r.sentiment != \"nan\"\n",
    "    GROUP BY app\n",
    "    )\n",
    "SELECT a.app, price, rating, installs, reviews, negative, positive, neutral\n",
    "FROM apps_vw a, reviews_vw r\n",
    "WHERE a.app = r.app\n",
    "AND negative > positive + neutral\n",
    "ORDER BY negative DESC\n",
    "\"\"\").show()"
   ]
  },
  {
   "cell_type": "markdown",
   "metadata": {},
   "source": [
    "#### 2. Correlation between price and number of installations"
   ]
  },
  {
   "cell_type": "code",
   "execution_count": 28,
   "metadata": {},
   "outputs": [
    {
     "name": "stdout",
     "output_type": "stream",
     "text": [
      "+-------------------------------------+------+------+--------+-------------+-------+\n",
      "|app                                  |price |rating|installs|genres       |reviews|\n",
      "+-------------------------------------+------+------+--------+-------------+-------+\n",
      "|I'm Rich - Trump Edition             |400.0 |3.6   |10000   |Lifestyle    |275    |\n",
      "|I'm Rich/Eu sou Rico/أنا غني/我很有錢|399.99|NaN   |0       |Lifestyle    |0      |\n",
      "|most expensive app (H)               |399.99|4.3   |100     |Entertainment|6      |\n",
      "|I am Rich!                           |399.99|3.8   |1000    |Finance      |93     |\n",
      "|I AM RICH PRO PLUS                   |399.99|4.0   |1000    |Finance      |36     |\n",
      "|I am rich (Most expensive app)       |399.99|4.1   |1000    |Finance      |129    |\n",
      "|I Am Rich Pro                        |399.99|4.4   |5000    |Entertainment|201    |\n",
      "|I am Rich                            |399.99|4.3   |5000    |Finance      |180    |\n",
      "|I am rich(premium)                   |399.99|3.5   |5000    |Finance      |472    |\n",
      "|I am Rich Plus                       |399.99|4.0   |10000   |Entertainment|856    |\n",
      "|💎 I'm rich                          |399.99|3.8   |10000   |Lifestyle    |718    |\n",
      "|I Am Rich Premium                    |399.99|4.1   |50000   |Finance      |1867   |\n",
      "|I am rich                            |399.99|3.8   |100000  |Lifestyle    |3547   |\n",
      "|Eu Sou Rico                          |394.99|NaN   |0       |Finance      |0      |\n",
      "|I Am Rich                            |389.99|3.6   |10000   |Entertainment|217    |\n",
      "|I am extremely Rich                  |379.99|2.9   |1000    |Lifestyle    |41     |\n",
      "|I am rich VIP                        |299.99|3.8   |10000   |Lifestyle    |411    |\n",
      "|EP Cook Book                         |200.0 |NaN   |0       |Medical      |0      |\n",
      "|cronometra-br                        |154.99|NaN   |0       |Productivity |0      |\n",
      "|BP Fitness Lead Scanner              |109.99|NaN   |1       |Events       |0      |\n",
      "|Lean EQ                              |89.99 |NaN   |10      |Business     |6      |\n",
      "|Vargo Anesthesia Mega App            |79.99 |4.6   |1000    |Medical      |92     |\n",
      "|Language Therapy: Aphasia            |74.99 |NaN   |1000    |Medical      |10     |\n",
      "|Dr.Dice - Sic bo analyzer            |46.99 |NaN   |10      |Entertainment|2      |\n",
      "|Norwegian For Kids & Babies F        |39.99 |NaN   |5       |Education    |0      |\n",
      "|LTC AS Legal                         |39.99 |4.0   |100     |Medical      |6      |\n",
      "|I am Rich Person                     |37.99 |4.2   |1000    |Lifestyle    |134    |\n",
      "|A Manual of Acupuncture              |33.99 |3.5   |1000    |Medical      |214    |\n",
      "|Eu sou Rico                          |30.99 |NaN   |0       |Finance      |0      |\n",
      "|Guide to Nikon Df                    |29.99 |NaN   |10      |Photography  |1      |\n",
      "+-------------------------------------+------+------+--------+-------------+-------+\n",
      "only showing top 30 rows\n",
      "\n"
     ]
    }
   ],
   "source": [
    "spark.sql(\"\"\"\n",
    "SELECT app, price, rating, installs, genres, reviews\n",
    "FROM apps\n",
    "ORDER BY price DESC, installs\n",
    "\"\"\").show(30, truncate=False)"
   ]
  },
  {
   "cell_type": "code",
   "execution_count": 29,
   "metadata": {},
   "outputs": [
    {
     "name": "stdout",
     "output_type": "stream",
     "text": [
      "+----+-------+------+------+-------+--------+--------+--------+--------------+\n",
      "|Free|0.1to10|10to20|20to50|50to100|100to200|200to300|300to400|total_installs|\n",
      "+----+-------+------+------+-------+--------+--------+--------+--------------+\n",
      "|   1|      0|     0|     0|      0|       0|       0|       0|   75242472646|\n",
      "|   0|      1|     0|     0|      0|       0|       0|       0|      56487944|\n",
      "|   0|      0|     1|     0|      0|       0|       0|       0|        490580|\n",
      "|   0|      0|     0|     0|      0|       0|       0|       1|        209100|\n",
      "|   0|      0|     0|     1|      0|       0|       0|       0|        164246|\n",
      "|   0|      0|     0|     0|      0|       0|       1|       0|         10000|\n",
      "|   0|      0|     0|     0|      1|       0|       0|       0|          2010|\n",
      "|   0|      0|     0|     0|      0|       1|       0|       0|             1|\n",
      "+----+-------+------+------+-------+--------+--------+--------+--------------+\n",
      "\n"
     ]
    }
   ],
   "source": [
    "# The cheaper the app is, the more times it gets installed\n",
    "spark.sql(\"\"\"\n",
    "SELECT    CASE WHEN price = 0 THEN 1 ELSE 0 END Free\n",
    "        , CASE WHEN price > 0 AND price <= 10 THEN 1 ELSE 0 END `0.1to10`\n",
    "        , CASE WHEN price > 10 AND price <= 20 THEN 1 ELSE 0 END `10to20`\n",
    "        , CASE WHEN price > 20 AND price <= 50 THEN 1 ELSE 0 END `20to50`\n",
    "        , CASE WHEN price > 50 AND price <= 100 THEN 1 ELSE 0 END `50to100`\n",
    "        , CASE WHEN price > 100 AND price <= 200 THEN 1 ELSE 0 END `100to200`\n",
    "        , CASE WHEN price > 200 AND price <= 300 THEN 1 ELSE 0 END `200to300`\n",
    "        , CASE WHEN price > 300 AND price <= 400 THEN 1 ELSE 0 END `300to400`\n",
    "        , SUM(installs) total_installs\n",
    "FROM apps\n",
    "GROUP BY 1, 2, 3, 4, 5, 6, 7, 8\n",
    "ORDER BY 9 DESC\n",
    "\"\"\").show()"
   ]
  },
  {
   "cell_type": "code",
   "execution_count": 30,
   "metadata": {},
   "outputs": [
    {
     "name": "stdout",
     "output_type": "stream",
     "text": [
      "+----+-------+------+------+-------+--------+--------+--------+--------------+-------+\n",
      "|Free|0.1to10|10to20|20to50|50to100|100to200|200to300|300to400|total_installs|percent|\n",
      "+----+-------+------+------+-------+--------+--------+--------+--------------+-------+\n",
      "|   1|      0|     0|     0|      0|       0|       0|       0|   75242472646|  99.92|\n",
      "|   0|      1|     0|     0|      0|       0|       0|       0|      56487944|   0.08|\n",
      "|   0|      0|     1|     0|      0|       0|       0|       0|        490580|    0.0|\n",
      "|   0|      0|     0|     0|      0|       0|       0|       1|        209100|    0.0|\n",
      "|   0|      0|     0|     1|      0|       0|       0|       0|        164246|    0.0|\n",
      "|   0|      0|     0|     0|      0|       0|       1|       0|         10000|    0.0|\n",
      "|   0|      0|     0|     0|      1|       0|       0|       0|          2010|    0.0|\n",
      "|   0|      0|     0|     0|      0|       1|       0|       0|             1|    0.0|\n",
      "+----+-------+------+------+-------+--------+--------+--------+--------------+-------+\n",
      "\n"
     ]
    }
   ],
   "source": [
    "spark.sql(\"\"\"\n",
    "WITH app_vw AS\n",
    "        (select   CASE WHEN price = 0 THEN 1 ELSE 0 END Free\n",
    "                , CASE WHEN price > 0 AND price <= 10 THEN 1 ELSE 0 END `0.1to10`\n",
    "                , CASE WHEN price > 10 AND price <= 20 THEN 1 ELSE 0 END `10to20`\n",
    "                , CASE WHEN price > 20 AND price <= 50 THEN 1 ELSE 0 END `20to50`\n",
    "                , CASE WHEN price > 50 AND price <= 100 THEN 1 ELSE 0 END `50to100`\n",
    "                , CASE WHEN price > 100 AND price <= 200 THEN 1 ELSE 0 END `100to200`\n",
    "                , CASE WHEN price > 200 AND price <= 300 THEN 1 ELSE 0 END `200to300`\n",
    "                , CASE WHEN price > 300 AND price <= 400 THEN 1 ELSE 0 END `300to400`\n",
    "                , SUM(installs) total_installs\n",
    "        from apps\n",
    "        GROUP BY 1, 2, 3, 4, 5, 6, 7, 8)\n",
    "SELECT *,\n",
    "       ROUND(total_installs / SUM(total_installs) OVER () * 100, 2) percent\n",
    "FROM app_vw\n",
    "ORDER BY 9 DESC\n",
    "\"\"\").show()"
   ]
  },
  {
   "cell_type": "markdown",
   "metadata": {},
   "source": [
    "#### 3. Correlation between rating and number of installations"
   ]
  },
  {
   "cell_type": "code",
   "execution_count": 31,
   "metadata": {},
   "outputs": [
    {
     "name": "stdout",
     "output_type": "stream",
     "text": [
      "+---+---+---+---+-------------+\n",
      "|0-2|2-3|3-4|4-5|sum(installs)|\n",
      "+---+---+---+---+-------------+\n",
      "|  0|  0|  0|  1|  65432846753|\n",
      "|  0|  0|  1|  0|   9800476630|\n",
      "|  0|  1|  0|  0|     54654330|\n",
      "|  1|  0|  0|  0|      5996625|\n",
      "|  0|  0|  0|  0|      5862189|\n",
      "+---+---+---+---+-------------+\n",
      "\n"
     ]
    }
   ],
   "source": [
    "# Higher rated apps are more frequently installed. \n",
    "spark.sql(\"\"\"\n",
    "SELECT CASE WHEN rating <= 2 THEN 1 ELSE 0 END `0-2`\n",
    "        , CASE WHEN rating > 2 AND rating <= 3 THEN 1 ELSE 0 END `2-3`\n",
    "        , CASE WHEN rating > 3 AND rating <= 4 THEN 1 ELSE 0 END `3-4`\n",
    "        , CASE WHEN rating > 4 AND rating <= 5 THEN 1 ELSE 0 END `4-5`\n",
    "        , SUM(installs)\n",
    "FROM apps\n",
    "GROUP BY 1, 2, 3, 4\n",
    "ORDER BY 5 DESC\n",
    "\"\"\").show()"
   ]
  }
 ],
 "metadata": {
  "kernelspec": {
   "display_name": "Python 3",
   "language": "python",
   "name": "python3"
  },
  "language_info": {
   "codemirror_mode": {
    "name": "ipython",
    "version": 3
   },
   "file_extension": ".py",
   "mimetype": "text/x-python",
   "name": "python",
   "nbconvert_exporter": "python",
   "pygments_lexer": "ipython3",
   "version": "3.6.9"
  }
 },
 "nbformat": 4,
 "nbformat_minor": 2
}
